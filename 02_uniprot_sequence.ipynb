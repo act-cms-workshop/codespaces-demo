{
 "cells": [
  {
   "cell_type": "markdown",
   "id": "eb2abbd4-d12b-48f5-bf58-16ed28bcec33",
   "metadata": {},
   "source": [
    "# Uniprot and Sequence Alginment\n",
    "\n",
    "This notebook shows retrieving sequences from [Uniprot](https://www.uniprot.org/) and performing a sequence alignment using `SeqLike`.\n",
    "\n",
    "Uniprot is a database of protein sequences (not structures) and SeqLike is a library made by moderna for working with sequences and doing sequence alignment. \n",
    "It is based on the Sequence object from Biopython.\n",
    "\n",
    "In this notebook, I demonstrate using `requests` from Python to query Uniprot. \n",
    "I pull out the Uniprot IDs from this search result and then retrieve the fasta files for each protein.\n",
    "\n",
    "We will likely discuss REST APIs and web retrieval in our last lab!\n",
    "\n",
    "The fasta files are then put into one large file, and I use SeqLike to add these to a pandas Dataframe and perform an alignment.\n",
    "\n",
    "This is an activity I'm still developing, but consider it a \"bonus\" notebook in case you finish the other one early!\n",
    "Go through the code and see if you can figure out what each line does!"
   ]
  },
  {
   "cell_type": "code",
   "execution_count": null,
   "id": "955471e2-75e5-4c1d-aba7-2841a41a2201",
   "metadata": {
    "tags": []
   },
   "outputs": [],
   "source": [
    "import requests\n",
    "import os\n",
    "\n",
    "from seqlike import SeqLike, aaSeqLike\n",
    "from Bio import SeqIO\n",
    "import pandas as pd\n",
    "\n",
    "search_query = \"myoglobin\""
   ]
  },
  {
   "cell_type": "code",
   "execution_count": null,
   "id": "b8d79209-1982-4840-9498-30d14a8494e7",
   "metadata": {
    "tags": []
   },
   "outputs": [],
   "source": [
    "results = requests.get(f\"https://rest.uniprot.org/uniprotkb/search?query={search_query}\")\n",
    "results = results.json()"
   ]
  },
  {
   "cell_type": "code",
   "execution_count": null,
   "id": "77cfb140-ac02-4cfd-948f-4401ff8acafe",
   "metadata": {
    "tags": []
   },
   "outputs": [],
   "source": [
    "results[\"results\"][0][\"primaryAccession\"]"
   ]
  },
  {
   "cell_type": "code",
   "execution_count": null,
   "id": "e14b6a3f-5f68-43d4-b1f1-d0af4b13a251",
   "metadata": {
    "tags": []
   },
   "outputs": [],
   "source": [
    "pids = [ results[\"results\"][i][\"primaryAccession\"] for i in range(len(results[\"results\"])) ]\n",
    "pids"
   ]
  },
  {
   "cell_type": "code",
   "execution_count": null,
   "id": "f5019113-50ab-4bf2-a9ae-ab0f58a31000",
   "metadata": {
    "tags": []
   },
   "outputs": [],
   "source": [
    "# Retrieve fasta using pids\n",
    "\n",
    "import os\n",
    "\n",
    "os.makedirs(f\"fasta/{search_query}\", exist_ok=True)\n",
    "\n",
    "files = []\n",
    "for pid in pids:\n",
    "    \n",
    "    file_name = f\"fasta/{search_query}/{pid}.fasta\"\n",
    "    files.append(file_name)\n",
    "    \n",
    "    if not os.path.isfile(file_name):\n",
    "        fasta = requests.get(f\"https://rest.uniprot.org/uniprotkb/{pid}.fasta\")\n",
    "        \n",
    "        with open(file_name, \"w\") as f:\n",
    "            f.write(fasta.text)\n"
   ]
  },
  {
   "cell_type": "code",
   "execution_count": null,
   "id": "c6bbfd5e-b169-47d4-89c2-81a643bc297a",
   "metadata": {
    "tags": []
   },
   "outputs": [],
   "source": [
    "with open(f\"fasta/{search_query}/structures.fasta\", \"w\") as f:\n",
    "    # concatenate files into one\n",
    "    for file in files:\n",
    "        with open(file) as structure_file:\n",
    "            f.write(structure_file.read())"
   ]
  },
  {
   "cell_type": "code",
   "execution_count": null,
   "id": "6a702601-202a-4d36-a932-5599b7ac0ffb",
   "metadata": {
    "tags": []
   },
   "outputs": [],
   "source": [
    "# define the standard amino acids\n",
    "amino_acids = {'A', 'R', 'N', 'D', 'C', 'E', 'Q', 'G', 'H', 'I', \n",
    "               'L', 'K', 'M', 'F', 'P', 'S', 'T', 'W', 'Y', 'V'}\n",
    "# read in sequences\n",
    "seqs = [s for s in SeqIO.parse(f\"fasta/{search_query}/structures.fasta\", \"fasta\")]\n",
    "\n",
    "# Find out if each sequence contains only standard amino acids (we only want sequences with standard amino acids\n",
    "standard = [ False if set(sequence.seq).difference(amino_acids) else True for sequence in seqs  ]"
   ]
  },
  {
   "cell_type": "code",
   "execution_count": null,
   "id": "14542d22-5f64-43cc-8073-0756b9f1edaa",
   "metadata": {
    "tags": []
   },
   "outputs": [],
   "source": [
    "df = pd.DataFrame(\n",
    "    {\n",
    "        \"names\": [s.name for s in seqs],\n",
    "        \"seqs\": [aaSeqLike(s) for s in seqs],\n",
    "    }\n",
    ")\n",
    "\n",
    "standard_seqs = df[standard].copy()\n",
    "\n",
    "standard_seqs[\"aligned\"] = standard_seqs[\"seqs\"].seq.align()\n",
    "standard_seqs[\"aligned\"] \n",
    "standard_seqs[\"aligned\"].seq.plot()"
   ]
  },
  {
   "cell_type": "code",
   "execution_count": null,
   "id": "0d0b0142-a6e7-490f-b366-fd84b86e37a7",
   "metadata": {},
   "outputs": [],
   "source": []
  },
  {
   "cell_type": "code",
   "execution_count": null,
   "id": "53256cdb-bf55-4045-94bf-26da8ca43655",
   "metadata": {},
   "outputs": [],
   "source": []
  },
  {
   "cell_type": "code",
   "execution_count": null,
   "id": "fe08e22e-9cca-4627-89b7-3cc596b56b5f",
   "metadata": {},
   "outputs": [],
   "source": []
  },
  {
   "cell_type": "code",
   "execution_count": null,
   "id": "1d6038c4-35db-4030-85f6-43b7c83414e9",
   "metadata": {},
   "outputs": [],
   "source": []
  }
 ],
 "metadata": {
  "kernelspec": {
   "display_name": "Python 3 (ipykernel)",
   "language": "python",
   "name": "python3"
  },
  "language_info": {
   "codemirror_mode": {
    "name": "ipython",
    "version": 3
   },
   "file_extension": ".py",
   "mimetype": "text/x-python",
   "name": "python",
   "nbconvert_exporter": "python",
   "pygments_lexer": "ipython3",
   "version": "3.11.6"
  }
 },
 "nbformat": 4,
 "nbformat_minor": 5
}
