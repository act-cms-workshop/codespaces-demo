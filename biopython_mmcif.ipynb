{
 "cells": [
  {
   "cell_type": "markdown",
   "id": "13a70a60-a308-4fb8-b28e-8b0f0970adc1",
   "metadata": {},
   "source": [
    "# Lab 6 - Protein Structure Files and the Protein Data Bank\n",
    "\n",
    "## Introduction\n",
    "\n",
    "Proteins are biological molecules made up of sequences of amino acids. \n",
    "Amino acids have the general structure shown below.\n",
    "\n",
    "<center>\n",
    "    <img src=\"./images/amino-acid.png\" style=\"align:center\">\n",
    "</center>\n",
    "\n",
    "\n",
    "The \"R\" group in the amino acid structure can have varying identities. \n",
    "Depending on the nature of the R group, the amino acid can be classified as hydrophilic or hydrophobic, postively, negatively, or neutrally charged, or other categories.\n",
    "The sequence of amino acids relative to one another is key to determining protein structure as the amino acids interact with each other to form protein secondary structure such as alpha helices or beta sheets.\n",
    "Proteins also commonly have accompanying small molecules (also called ligands) or nucleic acids (DNA or RNA).\n",
    "\n",
    "Determining protein structure has been an active area of research for many decades, and is part of a field called [structural biology](https://www.nigms.nih.gov/education/fact-sheets/Pages/structural-biology.aspx).\n",
    "The three dimensional structure of proteins plays a role in its biological function and determines much about its interaction with other molecules. Traditionally, the three dimensional structure of proteins had to be determined through laborious experimental methods such as [X-Ray crystallography](https://phys.libretexts.org/Courses/University_of_California_Davis/UCD%3A_Biophysics_200A_-_Current_Techniques_in_Biophysics/X-ray_Protein_Crystallography), Nuclear Magnetic Resonance (NMR) spectroscopy, or cryo-EM.\n",
    "\n",
    "Computational techniques such as [homology modeling](https://en.wikipedia.org/wiki/Homology_modeling) have also been used.\n",
    "In homology modeling, sequence fragments from known structures were matched to the unknown structure, and a model is iteratively built.\n",
    "\n",
    "More recently, machine learning has allowed for leaps in protein structure prediction. \n",
    "Notably, AlphaFold from Google's DeepMind was released in 2020. \n",
    "AlphaFold also very recently (October 31, 2023) announced the release of a model that is able to predict structure of complexes [containing ligands, proteins, and nucleic acids](https://deepmind.google/discover/blog/a-glimpse-of-the-next-generation-of-alphafold/).\n",
    "\n",
    "The [Protein Data Bank (PDB)](https://www.rcsb.org/) was established in 1971 at Brookhaven National Laboratory as a repository of protein structures. \n",
    "It originally started with 7 structures. \n",
    "Today it has over 200,000 experimentally determined protein structures and **over 1 million** computed structure models.\n",
    "\n",
    "## Lab Overview\n",
    "\n",
    "In this lab, we will be using a Python library called Biopython to read and analyze MMCIF files.\n",
    "Although machine learning prediction of protein structure is an exciting area, we will not be delving into that topic for this lab.\n",
    "Instead, the lab focuses on MMCIF files, Biopython, and structure analysis of proteins.\n",
    "    \n",
    "The [Biopython library](https://biopython.org/) is a powerful and versatile collection of tools specifically designed to assist biochemists and biologists with computational work. \n",
    "Biopython simplifies tasks such as working with DNA and protein sequences, interacting with online databases, and reading molecular format files like mmCIF and PDB. \n",
    "\n",
    "In this notebook, we will use Biopython to parse information from an MMCIF file.\n",
    "\n",
    "## MMCIF Files\n",
    "The mmCIF (also called PDBx/mmCIF) file format defines the three dimensional structure of a protein and provides information\n",
    "about the molecule, any ligands, host organism, and experimental method and conditions under which the data was obtained.\n",
    "The mmCIF file has a [specific format](https://pdb101.rcsb.org/learn/guide-to-understanding-pdb-data/beginner%E2%80%99s-guide-to-pdb-structures-and-the-pdbx-mmcif-format)\n",
    "that consists of data entries with certain keywords beginning with `_` followed by their values.\n",
    "\n",
    "The following is a text excerpt from the PDB 101 page about the mmCIF file format:\n",
    "\n",
    "---\n",
    "All data items are identified by name, begin with the underscore character and are composed of a category name and an attribute name. \n",
    "The category name is separated from the attribute name by a period:\n",
    "\n",
    "```\n",
    "_citation.year\n",
    "\n",
    "```\n",
    "\n",
    "This combination of category and attribute may be termed an mmCIF token.\n",
    "\n",
    "Data categories are presented in two styles: key-value and tabular.\n",
    "\n",
    "In the key-value style, the mmCIF token is followed directly by a corresponding value.  The following example shows the unit cell parameters from entry 4hhb:\n",
    "\n",
    "```\n",
    "_cell.entry_id           4HHB\n",
    "_cell.length_a           63.150\n",
    "_cell.length_b           83.590\n",
    "_cell.length_c           53.800\n",
    "_cell.angle_alpha        90.00\n",
    "_cell.angle_beta         99.34\n",
    "_cell.angle_gamma        90.00\n",
    "_cell.Z_PDB              4\n",
    "```\n",
    "----\n",
    "\n",
    "BioPython has a function called `MMCIF2Dict` that can read this information into a Python Dictionary.\n",
    "We can then query the dictionary to pull out data we are interested in.\n",
    "\n"
   ]
  },
  {
   "cell_type": "code",
   "execution_count": null,
   "id": "749ce576-63d8-4f5e-aa25-e325a5033eb8",
   "metadata": {
    "tags": []
   },
   "outputs": [],
   "source": [
    "from Bio.PDB.MMCIF2Dict import MMCIF2Dict\n",
    "\n",
    "structure_info = MMCIF2Dict(\"data/1mbn.cif\")"
   ]
  },
  {
   "cell_type": "markdown",
   "id": "2fd581df-fcf7-47a1-b77a-99f3d5481b5c",
   "metadata": {},
   "source": [
    "The variable `experimental_info` is now a Python dictionary containing data from the CIF file."
   ]
  },
  {
   "cell_type": "markdown",
   "id": "dc812eb0-7a87-445e-b34d-6906095828f7",
   "metadata": {},
   "source": [
    "The mmCIF file contains a lot of data. \n",
    "You can see all of the possible dictionary keys by doing \n",
    "\n",
    "```python\n",
    "experimental_info.keys()\n",
    "```\n",
    "\n",
    "Note that there are a large number of possible keys for an MMCIF file.\n",
    "Each MMCIF file contains a varying number of these keywords.\n",
    "The following cell prints the data categories present in the dictionary."
   ]
  },
  {
   "cell_type": "code",
   "execution_count": null,
   "id": "05e73f2b-e89d-4a60-a957-c04749386a67",
   "metadata": {
    "tags": []
   },
   "outputs": [],
   "source": [
    "data_categories = { key.split(\".\")[0] for key in structure_info.keys() }\n",
    "print(data_categories)"
   ]
  },
  {
   "cell_type": "markdown",
   "id": "ba3e4c7b-ff86-4ac0-9f7d-b2cb56dd0405",
   "metadata": {},
   "source": [
    "We can use dictionary rpocessing. in Python to print some of the data of interest. \n",
    "In the following cell, we print the data associated with the `_cell` category."
   ]
  },
  {
   "cell_type": "code",
   "execution_count": null,
   "id": "b714915f-0f02-4615-902f-d4a7b44cd8c5",
   "metadata": {
    "tags": []
   },
   "outputs": [],
   "source": [
    "cell_data = { k:v for k,v in structure_info.items() if \"_cell.\" in k}\n",
    "cell_data"
   ]
  },
  {
   "cell_type": "markdown",
   "id": "a8093afd-cbd5-4a37-871f-943ebcaf936e",
   "metadata": {},
   "source": [
    "You can browse then on [this webpage](https://mmcif.wwpdb.org/dictionaries/mmcif_pdbx_v50.dic/Groups/index.html) from the World Wide PDB for information about the data categories.\n",
    "\n",
    "Note that every MMCIF file can have slightly different keys.\n",
    "\n",
    "In particular, the `_entity` category contains interesting information:\n",
    "\n",
    "        \"Data items in the ENTITY category record details (such as\n",
    "       chemical composition, name and source) about the molecular\n",
    "       entities that are present in the crystallographic structure.\n",
    "\n",
    "       Items in the various ENTITY subcategories provide a full\n",
    "       chemical description of these molecular entities.\n",
    "\n",
    "       Entities are of three types:  polymer, non-polymer and water.\n",
    "       Note that the water category includes only water;  ordered\n",
    "       solvent such as sulfate ion or acetone would be described as\n",
    "       individual non-polymer entities.\"\n",
    "\n",
    "In the cell below, find information for the `_entity` category:"
   ]
  },
  {
   "cell_type": "code",
   "execution_count": null,
   "id": "2a5360bd-edb9-483d-9ad7-04a4d8887c6d",
   "metadata": {
    "tags": []
   },
   "outputs": [],
   "source": [
    "entity_data = { k:v for k,v in structure_info.items() if \"_entity.\" in k}\n",
    "entity_data"
   ]
  },
  {
   "cell_type": "markdown",
   "id": "8b6e7817-db52-450c-8185-2c226fec5900",
   "metadata": {},
   "source": [
    "We see a few interesting entries in the `_entity` section.\n",
    "The output tells us that there are four entities in the structure.\n",
    "Those have the description \"MYOGLOBIN\", \"HYDROXIDE ION\", and \"PROTOPORPHYRIN IX CONTAINING FE\".\n",
    "\n",
    "There are many more properties present in the dictionary we've read from the MMCIF. \n",
    "You can continue to investigate the dictionary in the cells below. \n",
    "You might try determining when this structure was published or what species it belongs to (but there are more interesting things in the notebook, so don't spend too long on this)."
   ]
  },
  {
   "cell_type": "code",
   "execution_count": null,
   "id": "e2df9ace-2723-4a52-939f-d5ed0b4df1f3",
   "metadata": {},
   "outputs": [],
   "source": []
  },
  {
   "cell_type": "code",
   "execution_count": null,
   "id": "e522d4b6-7ea8-41d4-9e15-46737a8284f8",
   "metadata": {},
   "outputs": [],
   "source": []
  },
  {
   "cell_type": "code",
   "execution_count": null,
   "id": "e26560f6-54db-4ee8-a280-2d66407f7a41",
   "metadata": {},
   "outputs": [],
   "source": []
  },
  {
   "cell_type": "code",
   "execution_count": null,
   "id": "ab685146-fc92-4a1d-8bf0-1fa07dab483d",
   "metadata": {},
   "outputs": [],
   "source": []
  },
  {
   "cell_type": "markdown",
   "id": "009a8b9a-7f09-4eed-baf6-a06a536dd1ba",
   "metadata": {},
   "source": [
    "## Measuring 3D Properties\n",
    "\n",
    "This structure we are examining is for [myoglobin]().\n",
    "We can load the three dimensional structure into a Python object using `MMCIFParser` in Biopython.\n",
    "\n",
    "In our analysis above, we see that the myoglobin structure contains an entity called \"PROTOPORPHYRIN IX CONTAINING FE\". \n",
    "\n",
    "One useful thing about having the three dimensional structure of the protein is that we can analyze the coordinates to see how different parts of the molecule interact.\n",
    "In myoglobin, the iron atom (Fe) in the protoporphyrin reversibly binds the oxygen $O_2$ molecule to carry oxygen to muscles. \n",
    "We can use BioPython to analyze the binding of this heme group to the protein.\n",
    "\n",
    "<center>\n",
    "    <img src=\"./images/Heme.svg\" style=\"align:center\">\n",
    "</center>\n",
    "\n",
    "The image below shows myoglobin with the heme group (circled).\n",
    "\n",
    "<center>\n",
    "    <img src=\"images/myoglobin_heme_small.png\">\n",
    "</center>\n",
    "\n",
    "\n",
    "We will want to use Biopython to measure the neighbors of the iron atom in order to measure which residues the\n",
    "heme group is bound to.\n",
    "To perform this analysis, we will have to load the protein into a Biopython structure object.\n",
    "This time, we will import `MMCIFParser` instead of `MMCIF2Dict`.\n",
    "This will allow us to do measurements with the coordinates."
   ]
  },
  {
   "cell_type": "code",
   "execution_count": null,
   "id": "78c6c603-8661-422a-ba8d-2f86660a8d29",
   "metadata": {
    "tags": []
   },
   "outputs": [],
   "source": [
    "from Bio.PDB.MMCIFParser import MMCIFParser\n",
    "\n",
    "# Create an MMCIFParser object\n",
    "parser = MMCIFParser(QUIET=True)\n",
    "\n",
    "# Parse the mmCIF file\n",
    "structure = parser.get_structure(\"myoglobin\", \"data/1mbn.cif\")\n",
    "model = structure[0]"
   ]
  },
  {
   "cell_type": "markdown",
   "id": "090fc6e7-ffa4-4d62-be28-1d815fb3eedc",
   "metadata": {},
   "source": [
    "We can visualize the structure interactively in our Jupyter notebook using `nglview`."
   ]
  },
  {
   "cell_type": "code",
   "execution_count": null,
   "id": "6131817c-156f-4bab-9660-49f72d0eabf5",
   "metadata": {
    "tags": []
   },
   "outputs": [],
   "source": [
    "import nglview as nv\n",
    "\n",
    "view = nv.show_biopython(structure)\n",
    "view.center(\"ligand\")\n",
    "view"
   ]
  },
  {
   "cell_type": "markdown",
   "id": "7be6b1f2-ac9e-4754-b4ec-04904d3e3774",
   "metadata": {},
   "source": [
    "\n",
    "\n"
   ]
  },
  {
   "cell_type": "markdown",
   "id": "231815e4-9a96-46ae-8e7f-b582b60caeda",
   "metadata": {},
   "source": [
    "The `structure` variable is a Biopython structure object.\n",
    "\n",
    "The Structure object represents the molecules in the MMCIF file and is hierarchical.\n",
    "It follows the SMCRA (Structure/Model/Chain/Residue/Atom) architecture :\n",
    "\n",
    "* A structure consists of models\n",
    "* A model consists of chains\n",
    "* A chain consists of residues\n",
    "* A residue consists of atoms\n",
    "\n",
    "This is the way many structural biologists/bioinformaticians think about structure, and provides a simple but efficient way to deal with structure. \n",
    "\n",
    "For our analysis, we want to find the neighbors of the iron atom.\n",
    "To do this analysis, we will first need to find our iron atom.\n",
    "We use the `structure.get_atoms()` function to get all of the atoms in the MMCIF.\n",
    "The variable `atoms` after this step is a special data type called a **generator**.\n",
    "\n",
    "A generator will load elements of a collection one a time when iterated over.\n",
    "This means only one atom would be loaded into memory if we looped through the atoms.\n",
    "Biopython uses a generator when returning atoms because sometimes proteins can be so large that you don't want to load them all into your computer memory at once.\n",
    "There is one drawback to generators, however, and that is that you can only use generators once (if you wanted to work with atoms again, you would have to do structure.get_atoms() again.\n",
    "\n",
    "Consider the code below demonstrating some properties of generators."
   ]
  },
  {
   "cell_type": "code",
   "execution_count": null,
   "id": "304196f1-4de0-4847-9b86-682e70ec3c60",
   "metadata": {
    "tags": []
   },
   "outputs": [],
   "source": [
    "atoms = structure.get_atoms()\n",
    "type(atoms)"
   ]
  },
  {
   "cell_type": "code",
   "execution_count": null,
   "id": "2e51bedf-5cef-42e8-bd40-bd9f6bd767d4",
   "metadata": {
    "tags": []
   },
   "outputs": [],
   "source": [
    "atoms"
   ]
  },
  {
   "cell_type": "markdown",
   "id": "8cbe2381-9033-4e40-94a4-ee154e18f7e4",
   "metadata": {},
   "source": [
    "We can use a for loop to go over the generator.\n",
    "You can really see how a generator works using the `__next__()` special method in Python.\n",
    "This will load the \"next\" value in the generator.\n",
    "(Execute this cell a few times to see the atom update)"
   ]
  },
  {
   "cell_type": "code",
   "execution_count": null,
   "id": "85b7949a-7cb2-4065-94a4-5dccf6ba3cc1",
   "metadata": {
    "tags": []
   },
   "outputs": [],
   "source": [
    "atoms.__next__()"
   ]
  },
  {
   "cell_type": "markdown",
   "id": "07ae6fe6-2aaf-469f-b71b-42afc927f36b",
   "metadata": {},
   "source": [
    "A loop will go through all of the atoms. \n",
    "After you have finished the generator, you get an error if you try to iterate further."
   ]
  },
  {
   "cell_type": "code",
   "execution_count": null,
   "id": "51302665-de53-4a49-b201-c11c0cb79881",
   "metadata": {
    "tags": []
   },
   "outputs": [],
   "source": [
    "atoms = structure.get_atoms()\n",
    "\n",
    "for atom in atoms:\n",
    "    pass\n",
    "\n",
    "atoms.__next__()"
   ]
  },
  {
   "cell_type": "markdown",
   "id": "06754188-f9a0-4ef0-9f9b-7ae89852068b",
   "metadata": {},
   "source": [
    "Once you finish iterating through a generator, you cannot use the same generator again.\n",
    "You can convert a generator to a list if it's more convenient, but this should be avoided for large data structures."
   ]
  },
  {
   "cell_type": "code",
   "execution_count": null,
   "id": "1b86c963-7675-4884-a956-545973c9cd36",
   "metadata": {
    "tags": []
   },
   "outputs": [],
   "source": [
    "atoms = structure.get_atoms()\n",
    "\n",
    "# get a list of atoms\n",
    "atom_list = list(atoms)\n",
    "\n",
    "# Find the iron atom(s) using a list comprehension.\n",
    "iron_atoms = [ atom for atom in atom_list if atom.element == \"FE\" ]\n",
    "\n",
    "print(iron_atoms)\n",
    "\n",
    "iron_atom = iron_atoms[0]"
   ]
  },
  {
   "cell_type": "markdown",
   "id": "0b3b6fdf-9f83-40e3-a0e3-8e2cab3a5bd5",
   "metadata": {},
   "source": [
    "We know have an iron atom object.\n",
    "Use the cells below to examine methods and attributes associated with this object.\n",
    "Does this object follow principles of \"Pythonic design\" we talked about in our recent discussion session?\n",
    "What happens if you retrieve chains or residues?"
   ]
  },
  {
   "cell_type": "code",
   "execution_count": null,
   "id": "89247068-7d3f-4cb1-89dd-48ad2c870c52",
   "metadata": {},
   "outputs": [],
   "source": []
  },
  {
   "cell_type": "code",
   "execution_count": null,
   "id": "c25d620e-d01d-490d-8d4f-c3372d34a83b",
   "metadata": {},
   "outputs": [],
   "source": []
  },
  {
   "cell_type": "code",
   "execution_count": null,
   "id": "58a48176-df9b-4614-a8eb-1163b38e4c98",
   "metadata": {},
   "outputs": [],
   "source": []
  },
  {
   "cell_type": "markdown",
   "id": "dc25dfdd-4103-4604-9b8c-4bf9358b84b0",
   "metadata": {},
   "source": [
    "We will now use Biopython to do a neighbor search.\n",
    "A neighbor search is done in two steps.\n",
    "First, we create a neighbor search variable using `NeighborSearch(atoms)`.\n",
    "Then, we do the neighbor search by inputting the coordinates we are looking for neighbors to,\n",
    "and a cut-off distance for the neighbors.\n",
    "Any atom that is within the specified cut-off distance is considered to be a neighbor."
   ]
  },
  {
   "cell_type": "code",
   "execution_count": null,
   "id": "d03c0b2f-5fac-4802-9f89-05b2ecba62d7",
   "metadata": {
    "tags": []
   },
   "outputs": [],
   "source": [
    "from Bio.PDB import NeighborSearch\n",
    "\n",
    "# Define the maximum distance for a neighbor.\n",
    "cutoff_distance = 4\n",
    "\n",
    "# Create a neighbor search.\n",
    "neighbor_search = NeighborSearch(atom_list)\n",
    "\n",
    "neighbors = neighbor_search.search(iron_atom.get_coord(), cutoff_distance)\n",
    "\n",
    "# Print the number of neighbors here\n",
    "print(f\"The iron atom has {len(neighbors)} neighors.\")"
   ]
  },
  {
   "cell_type": "markdown",
   "id": "c76ca736-2a9f-4ee7-9143-5ca8537ebf6c",
   "metadata": {},
   "source": [
    "We can use a for loop (or alternatively, a comprehension) to get information about through the neighbor atoms that the `search` function found.\n",
    "We can get the residue of the atom by using `atom.get_parent()`."
   ]
  },
  {
   "cell_type": "code",
   "execution_count": null,
   "id": "201d57e7-3b7b-4f96-9c68-77623c54642f",
   "metadata": {
    "tags": []
   },
   "outputs": [],
   "source": [
    "for neighbor in neighbors:\n",
    "    residue = neighbor.get_parent()\n",
    "    print(residue.get_resname(), residue.get_id())"
   ]
  },
  {
   "cell_type": "markdown",
   "id": "a99f5a8c-9bfb-47f6-8738-1b76d2344d28",
   "metadata": {},
   "source": [
    "The lines that say \"HEM\" are for atoms that belong to the heme ligand.\n",
    "We are interested in how the ligand binds to the protein, so we'll modify the for loop to only print neighbors if they are not part of the same residue as the iron."
   ]
  },
  {
   "cell_type": "code",
   "execution_count": null,
   "id": "26bb9bea-1a59-4486-ac9d-df978f96eb68",
   "metadata": {
    "tags": []
   },
   "outputs": [],
   "source": [
    "iron_residue = iron_atom.get_parent()\n",
    "\n",
    "for neighbor in neighbors:\n",
    "    residue = neighbor.get_parent()\n",
    "    \n",
    "    if residue != iron_residue:\n",
    "        print(neighbor.element, residue.get_resname(), residue.get_id()[1])"
   ]
  },
  {
   "cell_type": "markdown",
   "id": "3a9b1567-6d0b-472b-a1ac-72d04ff13fea",
   "metadata": {},
   "source": [
    "Our analysis shows us that HIS 93 is a neighbor to the iron in the heme group. \n",
    "This histidine is called the \"distal histidine\" and is known to bind to the iron in the heme group.\n",
    "\n",
    "\n",
    "You can read more about myoglobin's structure [here](https://sites.chem.utoronto.ca/chemistry/coursenotes/GTM/JM/myoglobin/start.htm).\n",
    "\n",
    "Try increasing the distance to 5. What do you find?"
   ]
  },
  {
   "cell_type": "markdown",
   "id": "5d7f3876-98aa-430f-9446-50ee537d1eb8",
   "metadata": {},
   "source": [
    "## Exercise - Repeat analysis for a Zinc Finger\n",
    "\n",
    "Zinc fingers are small protein motifs that are characterized by the coordination of one or more zinc ions to stabilize their structure, enabling them to interact with other molecules such as DNA, RNA, or proteins.\n",
    "These motifs are commonly found in transcription factors, where they play a crucial role in the recognition and binding of specific DNA sequences, thereby regulating gene expression.\n",
    "\n",
    "For this challenge, you will analyze the structure `1a1t`.\n",
    "This structure is the HIV-1 nucleocapsid protein, which contains two zinc fingers that grip the viral RNA during budding of the virus. \n",
    "Use Biopython to determine what protein residues are neighbors to zinc in this structure.\n",
    "\n",
    "<center>\n",
    "    <img src=\"images/1a1t.png\" style=\"height:350px\">\n",
    "</center>\n",
    "\n",
    "**Hint 1** - The structure `1a1t` is determined by NMR and contains 25 structure models. When you load the structure using the MMCIF parser, you will get a list of 25 structures. You can analyze only one of them by using list indexing.\n",
    "\n",
    "**Hint 2** - The structure also contains more than one Zinc atom, so if you would like to analyze both that are present in the structure, you will have to use your Python knowledge to slightly modify your code."
   ]
  },
  {
   "cell_type": "code",
   "execution_count": null,
   "id": "14b67e87-6fba-4abb-a86f-6fbd68c218bc",
   "metadata": {},
   "outputs": [],
   "source": []
  },
  {
   "cell_type": "code",
   "execution_count": null,
   "id": "c0fa9d95-762c-40da-a968-724d53aa9035",
   "metadata": {},
   "outputs": [],
   "source": []
  },
  {
   "cell_type": "code",
   "execution_count": null,
   "id": "b1319ade-24c7-4050-9447-66736109b8ad",
   "metadata": {},
   "outputs": [],
   "source": []
  },
  {
   "cell_type": "code",
   "execution_count": null,
   "id": "d1609c5f-72d8-40f3-9518-b002e5b540df",
   "metadata": {},
   "outputs": [],
   "source": []
  },
  {
   "cell_type": "code",
   "execution_count": null,
   "id": "1c6d9253-acaf-4321-b533-b27453bd9295",
   "metadata": {},
   "outputs": [],
   "source": []
  },
  {
   "cell_type": "code",
   "execution_count": null,
   "id": "8a4afff6-de58-4dae-8d86-5ebe6d37cf40",
   "metadata": {},
   "outputs": [],
   "source": []
  },
  {
   "cell_type": "code",
   "execution_count": null,
   "id": "5bd793d6-ee18-4e76-b06b-9a99c0fcead9",
   "metadata": {},
   "outputs": [],
   "source": []
  }
 ],
 "metadata": {
  "kernelspec": {
   "display_name": "Python 3 (ipykernel)",
   "language": "python",
   "name": "python3"
  },
  "language_info": {
   "codemirror_mode": {
    "name": "ipython",
    "version": 3
   },
   "file_extension": ".py",
   "mimetype": "text/x-python",
   "name": "python",
   "nbconvert_exporter": "python",
   "pygments_lexer": "ipython3",
   "version": "3.12.3"
  }
 },
 "nbformat": 4,
 "nbformat_minor": 5
}
